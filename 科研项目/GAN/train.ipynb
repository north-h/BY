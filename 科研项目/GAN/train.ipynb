{
 "cells": [
  {
   "metadata": {
    "ExecuteTime": {
     "end_time": "2025-07-22T11:53:36.210765Z",
     "start_time": "2025-07-22T11:53:22.532411Z"
    }
   },
   "cell_type": "code",
   "source": [
    "import math\n",
    "import pickle\n",
    "import os\n",
    "\n",
    "import numpy as np\n",
    "import pandas as pd\n",
    "import torch\n",
    "import torch.nn as nn\n",
    "import torch.nn.functional as F\n",
    "from keras.preprocessing.sequence import pad_sequences\n",
    "from sklearn.model_selection import train_test_split\n",
    "from torch.utils.data import TensorDataset\n",
    "import torchvision\n",
    "from torchvision import transforms, datasets\n",
    "from torch import optim\n",
    "from torchnet import meter\n",
    "from tqdm import tqdm\n",
    "from PIL import Image\n",
    "\n",
    "import matplotlib.pyplot as plt"
   ],
   "id": "77ee55b003809016",
   "outputs": [],
   "execution_count": 1
  },
  {
   "metadata": {
    "ExecuteTime": {
     "end_time": "2025-07-22T11:53:36.275133Z",
     "start_time": "2025-07-22T11:53:36.212810Z"
    }
   },
   "cell_type": "code",
   "source": [
    "class Config(object):\n",
    "    data_path = 'data/'  # 数据集路径\n",
    "    image_size = 96  # 图像尺寸\n",
    "    batch_size = 32  # 批大小\n",
    "    epochs = 20  # 训练轮数\n",
    "    lr1 = 2e-3  # 生成器学习率\n",
    "    lr2 = 2e-4  # 判别器学习率\n",
    "    beta1 = 0.5  # Adam优化器参数\n",
    "    gpu = False  # 是否使用GPU (已废弃)\n",
    "    device = torch.device('cuda' if torch.cuda.is_available() else 'cpu')  # 自动选择设备\n",
    "    nz = 100  # 噪声向量维度\n",
    "    ngf = 64  # 生成器特征图基数\n",
    "    ndf = 64  # 判别器特征图基数\n",
    "    save_path = './images'  # 图像保存路径\n",
    "    generator_path = './generator.pkl'  # 生成器保存路径\n",
    "    discriminator_path = './discriminator.pkl'  # 判别器保存路径\n",
    "    gen_img = 'result.png'  # 输出图像文件名\n",
    "    gen_num = 64  # 生成图像数量\n",
    "    gen_search_num = 10000  # 候选图像数量\n",
    "    gen_mean = 0  # 噪声均值\n",
    "    gen_std = 1  # 噪声标准差\n",
    "\n",
    "config = Config()  # 实例化配置"
   ],
   "id": "ead7988a68df0f58",
   "outputs": [],
   "execution_count": 2
  },
  {
   "metadata": {
    "ExecuteTime": {
     "end_time": "2025-07-22T11:53:36.282151Z",
     "start_time": "2025-07-22T11:53:36.276142Z"
    }
   },
   "cell_type": "code",
   "source": [
    "data_transform = transforms.Compose([\n",
    "    transforms.Resize(config.image_size),\n",
    "    transforms.CenterCrop(config.image_size),\n",
    "    transforms.ToTensor(),\n",
    "    transforms.Normalize([0.5, 0.5, 0.5], [0.5, 0.5, 0.5])\n",
    "])"
   ],
   "id": "9a2e71d29a7f4978",
   "outputs": [],
   "execution_count": 3
  },
  {
   "metadata": {
    "ExecuteTime": {
     "end_time": "2025-07-22T11:53:36.452836Z",
     "start_time": "2025-07-22T11:53:36.283665Z"
    }
   },
   "cell_type": "code",
   "source": [
    "# 2.形成训练集\n",
    "train_dataset = datasets.ImageFolder(root=os.path.join(config.data_path),\n",
    "                                     transform=data_transform)"
   ],
   "id": "1cbaf1317e36ab62",
   "outputs": [],
   "execution_count": 4
  },
  {
   "metadata": {
    "ExecuteTime": {
     "end_time": "2025-07-22T11:53:36.476739Z",
     "start_time": "2025-07-22T11:53:36.457691Z"
    }
   },
   "cell_type": "code",
   "source": [
    "# 3.形成迭代器\n",
    "train_loader = torch.utils.data.DataLoader(train_dataset,\n",
    "                                           config.batch_size,\n",
    "                                           True,\n",
    "                                           drop_last=True)\n",
    "\n",
    "print('using {} images for training.'.format(len(train_dataset)))\n",
    "\n"
   ],
   "id": "d8234fff41ad17c6",
   "outputs": [
    {
     "name": "stdout",
     "output_type": "stream",
     "text": [
      "using 63565 images for training.\n"
     ]
    }
   ],
   "execution_count": 5
  },
  {
   "metadata": {
    "ExecuteTime": {
     "end_time": "2025-07-22T11:53:36.492761Z",
     "start_time": "2025-07-22T11:53:36.481276Z"
    }
   },
   "cell_type": "code",
   "source": [
    "class Generator(nn.Module):\n",
    "    def __init__(self, config):\n",
    "        super().__init__()\n",
    "\n",
    "        ngf = config.ngf\n",
    "\n",
    "        self.model = nn.Sequential(\n",
    "            nn.ConvTranspose2d(config.nz, ngf * 8, 4, 1, 0),\n",
    "            nn.BatchNorm2d(ngf * 8),\n",
    "            nn.ReLU(True),\n",
    "\n",
    "            nn.ConvTranspose2d(ngf * 8, ngf * 4, 4, 2, 1),\n",
    "            nn.BatchNorm2d(ngf * 4),\n",
    "            nn.ReLU(True),\n",
    "\n",
    "            nn.ConvTranspose2d(ngf * 4, ngf * 2, 4, 2, 1),\n",
    "            nn.BatchNorm2d(ngf * 2),\n",
    "            nn.ReLU(True),\n",
    "\n",
    "            nn.ConvTranspose2d(ngf * 2, ngf, 4, 2, 1),\n",
    "            nn.BatchNorm2d(ngf),\n",
    "            nn.ReLU(True),\n",
    "\n",
    "            nn.ConvTranspose2d(ngf, 3, 5, 3, 1),\n",
    "            nn.Tanh()\n",
    "        )\n",
    "\n",
    "    def forward(self, x):\n",
    "        output = self.model(x)\n",
    "        return output\n",
    "\n"
   ],
   "id": "18e5378debd413a7",
   "outputs": [],
   "execution_count": 6
  },
  {
   "metadata": {
    "ExecuteTime": {
     "end_time": "2025-07-22T11:53:36.504260Z",
     "start_time": "2025-07-22T11:53:36.495777Z"
    }
   },
   "cell_type": "code",
   "source": [
    "class Discriminator(nn.Module):\n",
    "    def __init__(self, config):\n",
    "        super().__init__()\n",
    "\n",
    "        ndf = config.ndf\n",
    "\n",
    "        self.model = nn.Sequential(\n",
    "            nn.Conv2d(3, ndf, 5, 3, 1),\n",
    "            nn.LeakyReLU(0.2, inplace=True),\n",
    "\n",
    "            nn.Conv2d(ndf, ndf * 2, 4, 2, 1),\n",
    "            nn.BatchNorm2d(ndf * 2),\n",
    "            nn.LeakyReLU(0.2, inplace=True),\n",
    "\n",
    "            nn.Conv2d(ndf * 2, ndf * 4, 4, 2, 1),\n",
    "            nn.BatchNorm2d(ndf * 4),\n",
    "            nn.LeakyReLU(0.2, inplace=True),\n",
    "\n",
    "            nn.Conv2d(ndf * 4, ndf * 8, 4, 2, 1),\n",
    "            nn.BatchNorm2d(ndf * 8),\n",
    "            nn.LeakyReLU(0.2, inplace=True),\n",
    "\n",
    "            nn.Conv2d(ndf * 8, 1, 4, 1, 0)\n",
    "        )\n",
    "\n",
    "    def forward(self, x):\n",
    "        output = self.model(x)\n",
    "        return output.view(-1)\n"
   ],
   "id": "e30e560c66b62ef1",
   "outputs": [],
   "execution_count": 7
  },
  {
   "metadata": {
    "jupyter": {
     "is_executing": true
    },
    "ExecuteTime": {
     "start_time": "2025-07-22T11:53:36.508270Z"
    }
   },
   "cell_type": "code",
   "source": [
    "# 1. 确保设备设置正确\n",
    "config.device = torch.device('cuda' if torch.cuda.is_available() else 'cpu')\n",
    "print(f\"使用设备: {config.device}\")\n",
    "\n",
    "# 2. 初始化模型并移动到设备\n",
    "generator = Generator(config).to(config.device)\n",
    "discriminator = Discriminator(config).to(config.device)\n",
    "\n",
    "# 3. 设置优化器\n",
    "optimizer_generator = torch.optim.Adam(generator.parameters(), config.lr1, betas=(config.beta1, 0.999))\n",
    "optimizer_discriminator = torch.optim.Adam(discriminator.parameters(), config.lr2, betas=(config.beta1, 0.999))\n",
    "\n",
    "# 4. 标签和噪声在设备上创建\n",
    "true_labels = torch.ones(config.batch_size, device=config.device)\n",
    "fake_labels = torch.zeros(config.batch_size, device=config.device)\n",
    "fix_noises = torch.randn(config.batch_size, config.nz, 1, 1, device=config.device)\n",
    "noises = torch.randn(config.batch_size, config.nz, 1, 1, device=config.device)\n",
    "\n",
    "# 5. 训练循环\n",
    "for epoch in range(config.epochs):\n",
    "    for ii, (img, _) in tqdm(enumerate(train_loader)):\n",
    "        if epoch % 10 == 0:  # 每10个epoch保存一次\n",
    "            with torch.no_grad():\n",
    "                test_img = generator(fix_noises)\n",
    "        save_path = os.path.join(config.save_path, f\"epoch_{epoch}.png\")\n",
    "        torchvision.utils.save_image(\n",
    "            test_img, \n",
    "            save_path,\n",
    "            normalize=True,\n",
    "            nrow=8,  # 每行8张图\n",
    "            value_range=(-1, 1)\n",
    "        )\n",
    "        # 确保数据移动到设备 - 添加错误检查\n",
    "        try:\n",
    "            real_img = img.to(config.device)\n",
    "        except RuntimeError as e:\n",
    "            print(f\"移动数据到设备失败: {str(e)}\")\n",
    "            # 尝试释放内存\n",
    "            torch.cuda.empty_cache()\n",
    "            real_img = img.to(config.device)\n",
    "        \n",
    "        # 创建新的噪声张量（直接在设备上）\n",
    "        new_noise = torch.randn(config.batch_size, config.nz, 1, 1, device=config.device)\n",
    "        \n",
    "        if ii % 2 == 0:\n",
    "            optimizer_discriminator.zero_grad()\n",
    "            \n",
    "            # 更新噪声\n",
    "            noises.data.copy_(new_noise)\n",
    "            \n",
    "            # 前向传播 - 添加设备检查\n",
    "            # print(f\"判别器设备: {next(discriminator.parameters()).device}\")\n",
    "            # print(f\"输入数据设备: {real_img.device}\")\n",
    "            \n",
    "            r_preds = discriminator(real_img)\n",
    "            fake_img = generator(noises).detach()\n",
    "            f_preds = discriminator(fake_img)\n",
    "            \n",
    "            r_f_diff = (r_preds - f_preds.mean()).clamp(max=1)  # 真实与假图像评分的差异\n",
    "            f_r_diff = (f_preds - r_preds.mean()).clamp(min=-1)  # 假图像与真实评分的差异\n",
    "            loss_d_real = (1 - r_f_diff).mean()  # 真实图像损失\n",
    "            loss_d_fake = (1 + f_r_diff).mean()  # 假图像损失\n",
    "            loss_d = loss_d_real + loss_d_fake  # 判别器总损失\n",
    "\n",
    "            loss_d.backward()  # 反向传播计算梯度\n",
    "            optimizer_discriminator.step()  # 更新判别器参数\n",
    "\n",
    "        else:\n",
    "            optimizer_generator.zero_grad()  # 清除生成器梯度\n",
    "            noises.data.copy_(torch.randn(config.batch_size, config.nz, 1, 1))  # 更新噪声\n",
    "            fake_img = generator(noises)  # 生成假图像\n",
    "            f_preds = discriminator(fake_img)  # 判别器对假图像的评分\n",
    "            r_preds = discriminator(real_img)  # 判别器对真实图像的评分\n",
    "\n",
    "            # 8. 计算生成器损失\n",
    "            r_f_diff = r_preds - torch.mean(f_preds)  # 真实与假图像评分的差异\n",
    "            f_r_diff = f_preds - torch.mean(r_preds)  # 假图像与真实评分的差异\n",
    "            # 使用ReLU激活的损失函数\n",
    "            loss_g = torch.mean(F.relu(1 + r_f_diff)) + torch.mean(F.relu(1 - f_r_diff))\n",
    "\n",
    "            loss_g.backward()  # 反向传播计算梯度\n",
    "            optimizer_generator.step()  # 更新生成器参数\n",
    "              # 9. 在最后一个epoch保存模型\n",
    "    if epoch == config.epochs - 1:\n",
    "        torch.save(discriminator.state_dict(), config.discriminator_path)  # 保存判别器参数\n",
    "        torch.save(generator.state_dict(), config.generator_path)  # 保存生成器参数\n",
    "\n",
    "print('Finished Training')  # 训练完成提示\n"
   ],
   "id": "c9db5c77dca66525",
   "outputs": [
    {
     "name": "stdout",
     "output_type": "stream",
     "text": [
      "使用设备: cuda\n"
     ]
    },
    {
     "name": "stderr",
     "output_type": "stream",
     "text": [
      "1986it [02:50, 11.63it/s]\n",
      "1986it [02:22, 13.92it/s]\n",
      "1986it [02:23, 13.80it/s]\n",
      "1986it [02:23, 13.84it/s]\n",
      "1986it [02:22, 13.96it/s]\n",
      "1986it [02:22, 13.92it/s]\n",
      "1986it [02:22, 13.90it/s]\n",
      "1986it [02:22, 13.95it/s]\n",
      "1986it [02:23, 13.89it/s]\n",
      "1986it [02:22, 13.94it/s]\n",
      "1986it [02:40, 12.34it/s]\n",
      "1986it [02:37, 12.58it/s]\n",
      "1986it [02:39, 12.48it/s]\n",
      "1986it [02:38, 12.53it/s]\n",
      "1986it [02:37, 12.57it/s]\n",
      "1986it [02:37, 12.64it/s]\n",
      "1986it [02:37, 12.59it/s]\n",
      "1986it [02:37, 12.61it/s]\n",
      "1986it [02:39, 12.46it/s]\n",
      "1928it [02:34, 12.59it/s]"
     ]
    }
   ],
   "execution_count": null
  },
  {
   "metadata": {
    "jupyter": {
     "is_executing": true
    }
   },
   "cell_type": "code",
   "source": [
    "generator = Generator(config)  # 重新创建生成器实例\n",
    "discriminator = Discriminator(config)  # 重新创建判别器实例\n",
    "\n",
    "# 11. 准备大量噪声用于生成候选图像\n",
    "noises = torch.randn(config.gen_search_num, config.nz, 1, 1).normal_(config.gen_mean, config.gen_std)\n",
    "noises = noises.to(config.device)  # 将噪声移动到设备\n",
    "\n",
    "# 12. 加载训练好的模型参数\n",
    "generator.load_state_dict(torch.load(config.generator_path, map_location='cpu'))  # 加载生成器参数到CPU\n",
    "discriminator.load_state_dict(torch.load(config.discriminator_path, map_location='cpu'))  # 加载判别器参数到CPU\n",
    "generator.to(config.device)  # 将生成器移动到设备\n",
    "discriminator.to(config.device)  # 将判别器移动到设备\n",
    "\n",
    "# 13. 生成图像并评分\n",
    "fake_img = generator(noises)  # 使用生成器生成图像\n",
    "scores = discriminator(fake_img).detach()  # 使用判别器评分并分离梯度\n",
    "\n",
    "# 14. 选择评分最高的图像\n",
    "indexs = scores.topk(config.gen_num)[1]  # 获取最高分的索引\n",
    "result = []  # 存储结果图像\n",
    "for ii in indexs:\n",
    "    result.append(fake_img.data[ii])  # 收集最佳图像\n",
    "\n",
    "# 15. 保存结果图像\n",
    "torchvision.utils.save_image(torch.stack(result), config.gen_img, normalize=True, value_range=(-1, 1))"
   ],
   "id": "37d2aa86fc6a7aa8",
   "outputs": [],
   "execution_count": null
  }
 ],
 "metadata": {
  "kernelspec": {
   "display_name": "Python 3",
   "language": "python",
   "name": "python3"
  },
  "language_info": {
   "codemirror_mode": {
    "name": "ipython",
    "version": 2
   },
   "file_extension": ".py",
   "mimetype": "text/x-python",
   "name": "python",
   "nbconvert_exporter": "python",
   "pygments_lexer": "ipython2",
   "version": "2.7.6"
  }
 },
 "nbformat": 4,
 "nbformat_minor": 5
}
